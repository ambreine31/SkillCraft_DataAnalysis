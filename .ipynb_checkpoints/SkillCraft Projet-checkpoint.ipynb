{
 "cells": [
  {
   "cell_type": "markdown",
   "metadata": {},
   "source": [
    "# SkillCraft Dataset Analysis"
   ]
  },
  {
   "cell_type": "markdown",
   "metadata": {},
   "source": [
    "##### Dans ce projet nous analysons la base de données [SkillCraft1 Master Table Dataset Data Set](https://archive.ics.uci.edu/ml/datasets/SkillCraft1+Master+Table+Dataset) et nous cherchons la meilleure modélisation des données dans le but de prédire la League Category de chaque joueur. La base de donnéee provient d'une étude sur le développement de l'expertise à travers des joueurs du jeu StarCraft [Video Game Telemetry as a Critical Tool in the Study of Complex Skill Learning](https://journals.plos.org/plosone/article?id=10.1371/journal.pone.0075129)"
   ]
  },
  {
   "cell_type": "markdown",
   "metadata": {},
   "source": [
    "When these aspects of RTS games are taken in conjunction with the telemetric collection and analysis of detailed game records,\n",
    "we are left with a project that has the following virtues:\n",
    "1. A rich, dynamic task environment,\n",
    "2. Highly motivated participants,\n",
    "3. Accurate measures of motor performance and attentional allocation,\n",
    "4. Noninvasive and direct measures of domain performance,\n",
    "5. Large datasets,\n",
    "6. Numerous variables,\n",
    "7. Many levels of expertise.\n",
    "This approach is therefore uniquely situated for exploring expert development.\n"
   ]
  },
  {
   "cell_type": "markdown",
   "metadata": {},
   "source": [
    "Imports"
   ]
  },
  {
   "cell_type": "code",
   "execution_count": 140,
   "metadata": {},
   "outputs": [],
   "source": [
    "import pandas as pd\n",
    "import pickle\n",
    "import matplotlib.pyplot as plt\n",
    "import numpy as np\n",
    "from sklearn.model_selection import train_test_split\n",
    "from sklearn.metrics import mean_squared_error, r2_score\n",
    "from sklearn.linear_model import LinearRegression\n",
    "from sklearn import preprocessing\n",
    "from sklearn.preprocessing import MinMaxScaler\n",
    "from sklearn.pipeline import Pipeline\n",
    "from sklearn.feature_selection import SelectKBest\n",
    "from sklearn.neighbors import KNeighborsClassifier\n",
    "from sklearn.feature_selection import SelectKBest, f_classif, mutual_info_classif, chi2\n",
    "from sklearn.model_selection import GridSearchCV\n",
    "from sklearn.ensemble import RandomForestClassifier\n",
    "from sklearn.model_selection import  cross_val_score\n",
    "from sklearn.svm import SVC\n",
    "from sklearn.ensemble import GradientBoostingClassifier\n",
    "from sklearn.pipeline import make_pipeline"
   ]
  },
  {
   "cell_type": "code",
   "execution_count": 14,
   "metadata": {
    "scrolled": true
   },
   "outputs": [
    {
     "data": {
      "text/html": [
       "<div>\n",
       "<style scoped>\n",
       "    .dataframe tbody tr th:only-of-type {\n",
       "        vertical-align: middle;\n",
       "    }\n",
       "\n",
       "    .dataframe tbody tr th {\n",
       "        vertical-align: top;\n",
       "    }\n",
       "\n",
       "    .dataframe thead th {\n",
       "        text-align: right;\n",
       "    }\n",
       "</style>\n",
       "<table border=\"1\" class=\"dataframe\">\n",
       "  <thead>\n",
       "    <tr style=\"text-align: right;\">\n",
       "      <th></th>\n",
       "      <th>GameID</th>\n",
       "      <th>LeagueIndex</th>\n",
       "      <th>Age</th>\n",
       "      <th>HoursPerWeek</th>\n",
       "      <th>TotalHours</th>\n",
       "      <th>APM</th>\n",
       "      <th>SelectByHotkeys</th>\n",
       "      <th>AssignToHotkeys</th>\n",
       "      <th>UniqueHotkeys</th>\n",
       "      <th>MinimapAttacks</th>\n",
       "      <th>MinimapRightClicks</th>\n",
       "      <th>NumberOfPACs</th>\n",
       "      <th>GapBetweenPACs</th>\n",
       "      <th>ActionLatency</th>\n",
       "      <th>ActionsInPAC</th>\n",
       "      <th>TotalMapExplored</th>\n",
       "      <th>WorkersMade</th>\n",
       "      <th>UniqueUnitsMade</th>\n",
       "      <th>ComplexUnitsMade</th>\n",
       "      <th>ComplexAbilitiesUsed</th>\n",
       "    </tr>\n",
       "  </thead>\n",
       "  <tbody>\n",
       "    <tr>\n",
       "      <th>0</th>\n",
       "      <td>52</td>\n",
       "      <td>5</td>\n",
       "      <td>27</td>\n",
       "      <td>10</td>\n",
       "      <td>3000</td>\n",
       "      <td>143.7180</td>\n",
       "      <td>0.003515</td>\n",
       "      <td>0.000220</td>\n",
       "      <td>7</td>\n",
       "      <td>0.000110</td>\n",
       "      <td>0.000392</td>\n",
       "      <td>0.004849</td>\n",
       "      <td>32.6677</td>\n",
       "      <td>40.8673</td>\n",
       "      <td>4.7508</td>\n",
       "      <td>28</td>\n",
       "      <td>0.001397</td>\n",
       "      <td>6</td>\n",
       "      <td>0.000000</td>\n",
       "      <td>0.000000</td>\n",
       "    </tr>\n",
       "    <tr>\n",
       "      <th>1</th>\n",
       "      <td>55</td>\n",
       "      <td>5</td>\n",
       "      <td>23</td>\n",
       "      <td>10</td>\n",
       "      <td>5000</td>\n",
       "      <td>129.2322</td>\n",
       "      <td>0.003304</td>\n",
       "      <td>0.000259</td>\n",
       "      <td>4</td>\n",
       "      <td>0.000294</td>\n",
       "      <td>0.000432</td>\n",
       "      <td>0.004307</td>\n",
       "      <td>32.9194</td>\n",
       "      <td>42.3454</td>\n",
       "      <td>4.8434</td>\n",
       "      <td>22</td>\n",
       "      <td>0.001194</td>\n",
       "      <td>5</td>\n",
       "      <td>0.000000</td>\n",
       "      <td>0.000208</td>\n",
       "    </tr>\n",
       "    <tr>\n",
       "      <th>2</th>\n",
       "      <td>56</td>\n",
       "      <td>4</td>\n",
       "      <td>30</td>\n",
       "      <td>10</td>\n",
       "      <td>200</td>\n",
       "      <td>69.9612</td>\n",
       "      <td>0.001101</td>\n",
       "      <td>0.000336</td>\n",
       "      <td>4</td>\n",
       "      <td>0.000294</td>\n",
       "      <td>0.000461</td>\n",
       "      <td>0.002926</td>\n",
       "      <td>44.6475</td>\n",
       "      <td>75.3548</td>\n",
       "      <td>4.0430</td>\n",
       "      <td>22</td>\n",
       "      <td>0.000745</td>\n",
       "      <td>6</td>\n",
       "      <td>0.000000</td>\n",
       "      <td>0.000189</td>\n",
       "    </tr>\n",
       "    <tr>\n",
       "      <th>3</th>\n",
       "      <td>57</td>\n",
       "      <td>3</td>\n",
       "      <td>19</td>\n",
       "      <td>20</td>\n",
       "      <td>400</td>\n",
       "      <td>107.6016</td>\n",
       "      <td>0.001034</td>\n",
       "      <td>0.000213</td>\n",
       "      <td>1</td>\n",
       "      <td>0.000053</td>\n",
       "      <td>0.000543</td>\n",
       "      <td>0.003783</td>\n",
       "      <td>29.2203</td>\n",
       "      <td>53.7352</td>\n",
       "      <td>4.9155</td>\n",
       "      <td>19</td>\n",
       "      <td>0.000426</td>\n",
       "      <td>7</td>\n",
       "      <td>0.000000</td>\n",
       "      <td>0.000384</td>\n",
       "    </tr>\n",
       "    <tr>\n",
       "      <th>4</th>\n",
       "      <td>58</td>\n",
       "      <td>3</td>\n",
       "      <td>32</td>\n",
       "      <td>10</td>\n",
       "      <td>500</td>\n",
       "      <td>122.8908</td>\n",
       "      <td>0.001136</td>\n",
       "      <td>0.000327</td>\n",
       "      <td>2</td>\n",
       "      <td>0.000000</td>\n",
       "      <td>0.001329</td>\n",
       "      <td>0.002368</td>\n",
       "      <td>22.6885</td>\n",
       "      <td>62.0813</td>\n",
       "      <td>9.3740</td>\n",
       "      <td>15</td>\n",
       "      <td>0.001174</td>\n",
       "      <td>4</td>\n",
       "      <td>0.000000</td>\n",
       "      <td>0.000019</td>\n",
       "    </tr>\n",
       "    <tr>\n",
       "      <th>...</th>\n",
       "      <td>...</td>\n",
       "      <td>...</td>\n",
       "      <td>...</td>\n",
       "      <td>...</td>\n",
       "      <td>...</td>\n",
       "      <td>...</td>\n",
       "      <td>...</td>\n",
       "      <td>...</td>\n",
       "      <td>...</td>\n",
       "      <td>...</td>\n",
       "      <td>...</td>\n",
       "      <td>...</td>\n",
       "      <td>...</td>\n",
       "      <td>...</td>\n",
       "      <td>...</td>\n",
       "      <td>...</td>\n",
       "      <td>...</td>\n",
       "      <td>...</td>\n",
       "      <td>...</td>\n",
       "      <td>...</td>\n",
       "    </tr>\n",
       "    <tr>\n",
       "      <th>3390</th>\n",
       "      <td>10089</td>\n",
       "      <td>8</td>\n",
       "      <td>?</td>\n",
       "      <td>?</td>\n",
       "      <td>?</td>\n",
       "      <td>259.6296</td>\n",
       "      <td>0.020425</td>\n",
       "      <td>0.000743</td>\n",
       "      <td>9</td>\n",
       "      <td>0.000621</td>\n",
       "      <td>0.000146</td>\n",
       "      <td>0.004555</td>\n",
       "      <td>18.6059</td>\n",
       "      <td>42.8342</td>\n",
       "      <td>6.2754</td>\n",
       "      <td>46</td>\n",
       "      <td>0.000877</td>\n",
       "      <td>5</td>\n",
       "      <td>0.000000</td>\n",
       "      <td>0.000000</td>\n",
       "    </tr>\n",
       "    <tr>\n",
       "      <th>3391</th>\n",
       "      <td>10090</td>\n",
       "      <td>8</td>\n",
       "      <td>?</td>\n",
       "      <td>?</td>\n",
       "      <td>?</td>\n",
       "      <td>314.6700</td>\n",
       "      <td>0.028043</td>\n",
       "      <td>0.001157</td>\n",
       "      <td>10</td>\n",
       "      <td>0.000246</td>\n",
       "      <td>0.001083</td>\n",
       "      <td>0.004259</td>\n",
       "      <td>14.3023</td>\n",
       "      <td>36.1156</td>\n",
       "      <td>7.1965</td>\n",
       "      <td>16</td>\n",
       "      <td>0.000788</td>\n",
       "      <td>4</td>\n",
       "      <td>0.000000</td>\n",
       "      <td>0.000000</td>\n",
       "    </tr>\n",
       "    <tr>\n",
       "      <th>3392</th>\n",
       "      <td>10092</td>\n",
       "      <td>8</td>\n",
       "      <td>?</td>\n",
       "      <td>?</td>\n",
       "      <td>?</td>\n",
       "      <td>299.4282</td>\n",
       "      <td>0.028341</td>\n",
       "      <td>0.000860</td>\n",
       "      <td>7</td>\n",
       "      <td>0.000338</td>\n",
       "      <td>0.000169</td>\n",
       "      <td>0.004439</td>\n",
       "      <td>12.4028</td>\n",
       "      <td>39.5156</td>\n",
       "      <td>6.3979</td>\n",
       "      <td>19</td>\n",
       "      <td>0.001260</td>\n",
       "      <td>4</td>\n",
       "      <td>0.000000</td>\n",
       "      <td>0.000000</td>\n",
       "    </tr>\n",
       "    <tr>\n",
       "      <th>3393</th>\n",
       "      <td>10094</td>\n",
       "      <td>8</td>\n",
       "      <td>?</td>\n",
       "      <td>?</td>\n",
       "      <td>?</td>\n",
       "      <td>375.8664</td>\n",
       "      <td>0.036436</td>\n",
       "      <td>0.000594</td>\n",
       "      <td>5</td>\n",
       "      <td>0.000204</td>\n",
       "      <td>0.000780</td>\n",
       "      <td>0.004346</td>\n",
       "      <td>11.6910</td>\n",
       "      <td>34.8547</td>\n",
       "      <td>7.9615</td>\n",
       "      <td>15</td>\n",
       "      <td>0.000613</td>\n",
       "      <td>6</td>\n",
       "      <td>0.000000</td>\n",
       "      <td>0.000631</td>\n",
       "    </tr>\n",
       "    <tr>\n",
       "      <th>3394</th>\n",
       "      <td>10095</td>\n",
       "      <td>8</td>\n",
       "      <td>?</td>\n",
       "      <td>?</td>\n",
       "      <td>?</td>\n",
       "      <td>348.3576</td>\n",
       "      <td>0.029855</td>\n",
       "      <td>0.000811</td>\n",
       "      <td>4</td>\n",
       "      <td>0.000224</td>\n",
       "      <td>0.001315</td>\n",
       "      <td>0.005566</td>\n",
       "      <td>20.0537</td>\n",
       "      <td>33.5142</td>\n",
       "      <td>6.3719</td>\n",
       "      <td>27</td>\n",
       "      <td>0.001566</td>\n",
       "      <td>7</td>\n",
       "      <td>0.000457</td>\n",
       "      <td>0.000895</td>\n",
       "    </tr>\n",
       "  </tbody>\n",
       "</table>\n",
       "<p>3395 rows × 20 columns</p>\n",
       "</div>"
      ],
      "text/plain": [
       "      GameID  LeagueIndex Age HoursPerWeek TotalHours       APM  \\\n",
       "0         52            5  27           10       3000  143.7180   \n",
       "1         55            5  23           10       5000  129.2322   \n",
       "2         56            4  30           10        200   69.9612   \n",
       "3         57            3  19           20        400  107.6016   \n",
       "4         58            3  32           10        500  122.8908   \n",
       "...      ...          ...  ..          ...        ...       ...   \n",
       "3390   10089            8   ?            ?          ?  259.6296   \n",
       "3391   10090            8   ?            ?          ?  314.6700   \n",
       "3392   10092            8   ?            ?          ?  299.4282   \n",
       "3393   10094            8   ?            ?          ?  375.8664   \n",
       "3394   10095            8   ?            ?          ?  348.3576   \n",
       "\n",
       "      SelectByHotkeys  AssignToHotkeys  UniqueHotkeys  MinimapAttacks  \\\n",
       "0            0.003515         0.000220              7        0.000110   \n",
       "1            0.003304         0.000259              4        0.000294   \n",
       "2            0.001101         0.000336              4        0.000294   \n",
       "3            0.001034         0.000213              1        0.000053   \n",
       "4            0.001136         0.000327              2        0.000000   \n",
       "...               ...              ...            ...             ...   \n",
       "3390         0.020425         0.000743              9        0.000621   \n",
       "3391         0.028043         0.001157             10        0.000246   \n",
       "3392         0.028341         0.000860              7        0.000338   \n",
       "3393         0.036436         0.000594              5        0.000204   \n",
       "3394         0.029855         0.000811              4        0.000224   \n",
       "\n",
       "      MinimapRightClicks  NumberOfPACs  GapBetweenPACs  ActionLatency  \\\n",
       "0               0.000392      0.004849         32.6677        40.8673   \n",
       "1               0.000432      0.004307         32.9194        42.3454   \n",
       "2               0.000461      0.002926         44.6475        75.3548   \n",
       "3               0.000543      0.003783         29.2203        53.7352   \n",
       "4               0.001329      0.002368         22.6885        62.0813   \n",
       "...                  ...           ...             ...            ...   \n",
       "3390            0.000146      0.004555         18.6059        42.8342   \n",
       "3391            0.001083      0.004259         14.3023        36.1156   \n",
       "3392            0.000169      0.004439         12.4028        39.5156   \n",
       "3393            0.000780      0.004346         11.6910        34.8547   \n",
       "3394            0.001315      0.005566         20.0537        33.5142   \n",
       "\n",
       "      ActionsInPAC  TotalMapExplored  WorkersMade  UniqueUnitsMade  \\\n",
       "0           4.7508                28     0.001397                6   \n",
       "1           4.8434                22     0.001194                5   \n",
       "2           4.0430                22     0.000745                6   \n",
       "3           4.9155                19     0.000426                7   \n",
       "4           9.3740                15     0.001174                4   \n",
       "...            ...               ...          ...              ...   \n",
       "3390        6.2754                46     0.000877                5   \n",
       "3391        7.1965                16     0.000788                4   \n",
       "3392        6.3979                19     0.001260                4   \n",
       "3393        7.9615                15     0.000613                6   \n",
       "3394        6.3719                27     0.001566                7   \n",
       "\n",
       "      ComplexUnitsMade  ComplexAbilitiesUsed  \n",
       "0             0.000000              0.000000  \n",
       "1             0.000000              0.000208  \n",
       "2             0.000000              0.000189  \n",
       "3             0.000000              0.000384  \n",
       "4             0.000000              0.000019  \n",
       "...                ...                   ...  \n",
       "3390          0.000000              0.000000  \n",
       "3391          0.000000              0.000000  \n",
       "3392          0.000000              0.000000  \n",
       "3393          0.000000              0.000631  \n",
       "3394          0.000457              0.000895  \n",
       "\n",
       "[3395 rows x 20 columns]"
      ]
     },
     "execution_count": 14,
     "metadata": {},
     "output_type": "execute_result"
    }
   ],
   "source": [
    "SkillCraft_DF = pd.read_csv('SkillCraft1_Dataset.csv')\n",
    "SkillCraft_DF"
   ]
  },
  {
   "cell_type": "markdown",
   "metadata": {},
   "source": [
    "Nous avons un dataset de 3395 rows et 20 colonnes. Nous pouvons prédire la league, ou le niveau, de chaque joueur en fonction des autres paramètres de jeu dans le dataset:\n",
    "*  **GameID**: Unique ID number for each game (integer)\n",
    "*  **LeagueIndex**: Bronze, Silver, Gold, Platinum, Diamond, Master, GrandMaster, and Professional leagues coded 1-8 (Ordinal)\n",
    "*  **Age**: Age of each player (integer)\n",
    "*  **HoursPerWeek**: Reported hours spent playing per week (integer)\n",
    "*  **TotalHours**: Reported total hours spent playing (integer)\n",
    "*  **APM**: Action per minute (continuous)\n",
    "*  **SelectByHotkeys**: Number of unit or building selections made using hotkeys per timestamp (continuous)\n",
    "*  **AssignToHotkeys**: Number of units or buildings assigned to hotkeys per timestamp (continuous)\n",
    "*  **UniqueHotkeys**: Number of unique hotkeys used per timestamp (continuous)\n",
    "*  **MinimapAttacks**: Number of attack actions on minimap per timestamp (continuous)\n",
    "*  **MinimapRightClicks**: number of right-clicks on minimap per timestamp (continuous)\n",
    "*  **NumberOfPACs**: Number of PACs per timestamp (continuous)\n",
    "*  **GapBetweenPACs**: Mean duration in milliseconds between PACs (continuous)\n",
    "*  **ActionLatency**: Mean latency from the onset of a PACs to their first action in milliseconds (continuous)\n",
    "*  **ActionsInPAC**: Mean number of actions within each PAC (continuous)\n",
    "*  **TotalMapExplored**: The number of 24x24 game coordinate grids viewed by the player per timestamp (continuous)\n",
    "*  **WorkersMade**: Number of SCVs, drones, and probes trained per timestamp (continuous)\n",
    "*  **UniqueUnitsMade**: Unique unites made per timestamp (continuous)\n",
    "*  **ComplexUnitsMade**: Number of ghosts, infestors, and high templars trained per timestamp (continuous)\n",
    "*  **ComplexAbilitiesUsed**: Abilities requiring specific targeting instructions used per timestamp (continuous)"
   ]
  },
  {
   "cell_type": "markdown",
   "metadata": {},
   "source": [
    "D'après l'article de recherche, les meilleurs joueurs sont souvent distingués par leur rapidité et augmentent leur efficacité en attribuant certaines fonctions à des touches de leur clavier. On s'attends donc à voir un APM croissance plus le niveau de league augmente ainsi qu'une plus forte utilisation des HotKeys."
   ]
  },
  {
   "cell_type": "markdown",
   "metadata": {},
   "source": [
    "On regarde premièrement le pourcentage de joueurs dans chaque catégorie de league."
   ]
  },
  {
   "cell_type": "code",
   "execution_count": 15,
   "metadata": {},
   "outputs": [
    {
     "data": {
      "text/html": [
       "<div>\n",
       "<style scoped>\n",
       "    .dataframe tbody tr th:only-of-type {\n",
       "        vertical-align: middle;\n",
       "    }\n",
       "\n",
       "    .dataframe tbody tr th {\n",
       "        vertical-align: top;\n",
       "    }\n",
       "\n",
       "    .dataframe thead th {\n",
       "        text-align: right;\n",
       "    }\n",
       "</style>\n",
       "<table border=\"1\" class=\"dataframe\">\n",
       "  <thead>\n",
       "    <tr style=\"text-align: right;\">\n",
       "      <th></th>\n",
       "      <th>GameID</th>\n",
       "    </tr>\n",
       "    <tr>\n",
       "      <th>LeagueIndex</th>\n",
       "      <th></th>\n",
       "    </tr>\n",
       "  </thead>\n",
       "  <tbody>\n",
       "    <tr>\n",
       "      <th>1</th>\n",
       "      <td>4.918999</td>\n",
       "    </tr>\n",
       "    <tr>\n",
       "      <th>2</th>\n",
       "      <td>10.220913</td>\n",
       "    </tr>\n",
       "    <tr>\n",
       "      <th>3</th>\n",
       "      <td>16.288660</td>\n",
       "    </tr>\n",
       "    <tr>\n",
       "      <th>4</th>\n",
       "      <td>23.888071</td>\n",
       "    </tr>\n",
       "    <tr>\n",
       "      <th>5</th>\n",
       "      <td>23.740795</td>\n",
       "    </tr>\n",
       "    <tr>\n",
       "      <th>6</th>\n",
       "      <td>18.291605</td>\n",
       "    </tr>\n",
       "    <tr>\n",
       "      <th>7</th>\n",
       "      <td>1.030928</td>\n",
       "    </tr>\n",
       "    <tr>\n",
       "      <th>8</th>\n",
       "      <td>1.620029</td>\n",
       "    </tr>\n",
       "  </tbody>\n",
       "</table>\n",
       "</div>"
      ],
      "text/plain": [
       "                GameID\n",
       "LeagueIndex           \n",
       "1             4.918999\n",
       "2            10.220913\n",
       "3            16.288660\n",
       "4            23.888071\n",
       "5            23.740795\n",
       "6            18.291605\n",
       "7             1.030928\n",
       "8             1.620029"
      ]
     },
     "execution_count": 15,
     "metadata": {},
     "output_type": "execute_result"
    }
   ],
   "source": [
    "Pourcentages = pd.DataFrame((SkillCraft_DF.groupby(['LeagueIndex']).GameID.count()/3395)*100)\n",
    "Pourcentages"
   ]
  },
  {
   "cell_type": "code",
   "execution_count": 16,
   "metadata": {},
   "outputs": [
    {
     "data": {
      "text/plain": [
       "Text(0.5, 1.0, 'Pourcentage de joueurs dans chaque catégorie de league StarCraft')"
      ]
     },
     "execution_count": 16,
     "metadata": {},
     "output_type": "execute_result"
    },
    {
     "data": {
      "image/png": "[encoded data removed]",
      "text/plain": [
       "<Figure size 360x360 with 1 Axes>"
      ]
     },
     "metadata": {},
     "output_type": "display_data"
    }
   ],
   "source": [
    "plt.rcParams['figure.figsize'] = [5, 5]\n",
    "\n",
    "plt.pie(Pourcentages.GameID,autopct='%1.1f%%', labels= [\"Bronze\",\"Silver\", \"Gold\",\"Platinum\", \"Diamond\", \"Master\", \"GrandMaster\", \"Professional\" ]);\n",
    "plt.title('Pourcentage de joueurs dans chaque catégorie de league StarCraft')"
   ]
  },
  {
   "cell_type": "markdown",
   "metadata": {},
   "source": [
    "![alt text](starcraft_world.JPG \"Title\")"
   ]
  },
  {
   "cell_type": "markdown",
   "metadata": {},
   "source": [
    "Comme les données ont été collectées depuis une communauté de jeux en ligne, il n'est pas surprenant que la proportion de données disponibles pour les matchs de la ligue Bronze et Argent soit très faible par rapport à la distribution des échelons officiels, alors que les matchs de la ligue Master dépassent sa proportion d'échelle. En effet, les joueurs des ligues supérieures ont tendance à être plus impliqués dans la communauté, en se tenant au courant des dernières stratégies et discussions. D'autre part, les joueurs de ligue inférieure sont probablement des joueurs nouveaux ou occasionnels, se connectant juste pour jouer au jeu pour le plaisir sans nécessairement s'engager avec la communauté en dehors du client du jeu."
   ]
  },
  {
   "cell_type": "code",
   "execution_count": 17,
   "metadata": {},
   "outputs": [
    {
     "data": {
      "text/plain": [
       "LeagueIndex\n",
       "1    167\n",
       "2    347\n",
       "3    553\n",
       "4    811\n",
       "5    806\n",
       "6    621\n",
       "7     35\n",
       "8     55\n",
       "Name: GameID, dtype: int64"
      ]
     },
     "execution_count": 17,
     "metadata": {},
     "output_type": "execute_result"
    }
   ],
   "source": [
    "SkillCraft_DF.groupby('LeagueIndex').GameID.count()"
   ]
  },
  {
   "cell_type": "markdown",
   "metadata": {},
   "source": [
    "Les données de l'enquête comprennent 7 ligues (Bronze, Argent, Or, Platine, Diamant, Masters, Grandmasters). L'échantillon de participants aux Grandmasters est bien plus petit que celui des autres ligues ce qui est logique puisque cette league ne comporte que 200 joueurs pour chaque région. Afin de ne pas compliquer et affecter les performances des modèles, l'article décide de supprimer cette catégorie. "
   ]
  },
  {
   "cell_type": "code",
   "execution_count": 18,
   "metadata": {},
   "outputs": [],
   "source": [
    "SkillCraft_DF = SkillCraft_DF[SkillCraft_DF.LeagueIndex != 7 ]"
   ]
  },
  {
   "cell_type": "markdown",
   "metadata": {},
   "source": [
    "Dans le but d'étudier le développement de l'expertise chez un joueur de jeu vidéo, l'étude développe des techniques d'analyse des parties de jeu pour calculer plusieurs paramètres de performance moteur. Il y a notamment le cycle de perception/action (PAC) qui représente un flux d'informations qui a lieu entre l'organisme et son environnement au cours d'une séquence de comportements guidées par des sensibilités vers un but. L'utilisation des HotKeys, ou raccourcis claviers est aussi pris en compte ainsi que plusieurs autres paramètres techniques du jeu. Le but de cette étude étant de modéliser l'expertise technique des joueurs de differentes leagues, nous suivons la décision de l'article de ne pas prendre en compte certaines colonnes telles que Age, HoursPerWeek, et TotalHours."
   ]
  },
  {
   "cell_type": "code",
   "execution_count": 22,
   "metadata": {},
   "outputs": [],
   "source": [
    "SkillCraft_DF = SkillCraft_DF.drop(columns=['Age', 'HoursPerWeek', 'TotalHours'])"
   ]
  },
  {
   "cell_type": "code",
   "execution_count": 30,
   "metadata": {},
   "outputs": [],
   "source": [
    "for i in range(len(SkillCraft_DF.columns)):\n",
    "    if (SkillCraft_DF.iloc[:,i].isna().sum() != 0):\n",
    "        print(i)\n",
    "#tout est verifié, pas de NA"
   ]
  },
  {
   "cell_type": "markdown",
   "metadata": {},
   "source": [
    "Dans l'article une question que se posent les chercheurs est si l'importance des variables pour la prédiction du niveau est toujours la meme. Par exemple est ce que l'APM est toujours la meilleure variable pour determiner si un joueur est Bronze, Platinum ou Professionel? Cependant un soucis qu'on encontrés les chercheurs est que la league ne reflète pas toujours parfaitement le niveau, donc les classificateurs utilisés n'arrivaient pas toujours à distinger la league entre deux niveaux adjacents. C'est pour cela que l'étude de l'importance des variables c'est faite entres leagues qui ne sont pas l'une après l'autre. Les leagues comparés ainsi que le rang d'importance des variables sont affichés dans le tableau suivant :"
   ]
  },
  {
   "cell_type": "markdown",
   "metadata": {},
   "source": [
    "![alt text](variableimp.JPG \"Title\")"
   ]
  },
  {
   "cell_type": "markdown",
   "metadata": {},
   "source": [
    "Nous pouvons voir d'après le tableau que les variables APM et Action latency sont de manière générale des bons indicateurs de niveau, suivi des indicateurs de cycle de perception/action. L'aboutissement de l'article est le constat que dans la prediction du niveau d'expertise, l'importance des variables n'est pas statique à travers tous les niveaux. Elle établi aussi l'importance des cycles de perception/action, comme bon marqueur cognitif de l'expertise. Par la suite nous allons explorer ce deuxième constat en comparant la prediction de la league d'un modèle avec et sans attributs PAC."
   ]
  },
  {
   "cell_type": "code",
   "execution_count": 35,
   "metadata": {},
   "outputs": [],
   "source": [
    "categories = []\n",
    "new_index = []\n",
    "for i in range(len(SkillCraft_DF)):\n",
    "    if(SkillCraft_DF.iloc[i,1] == 1):\n",
    "        categories.append('Bronze')\n",
    "        new_index.append(0)\n",
    "    if(SkillCraft_DF.iloc[i,1] == 2):\n",
    "        categories.append('Silver')\n",
    "        new_index.append(1)\n",
    "    if(SkillCraft_DF.iloc[i,1] == 3):\n",
    "        categories.append('Gold')\n",
    "        new_index.append(2)\n",
    "    if(SkillCraft_DF.iloc[i,1] == 4):\n",
    "        categories.append('Platinum')\n",
    "        new_index.append(3)\n",
    "    if(SkillCraft_DF.iloc[i,1] == 5):\n",
    "        categories.append('Diamond')\n",
    "        new_index.append(4)\n",
    "    if(SkillCraft_DF.iloc[i,1] == 6):\n",
    "        categories.append('Master')\n",
    "        new_index.append(5)\n",
    "    if(SkillCraft_DF.iloc[i,1] == 8):\n",
    "        categories.append('Professional')\n",
    "        new_index.append(6)\n",
    "\n",
    "\n",
    "SkillCraft_DF['LeagueCategory'] = categories\n",
    "SkillCraft_DF['NewIndex'] = new_index"
   ]
  },
  {
   "cell_type": "markdown",
   "metadata": {},
   "source": [
    "On crée une nouvelle colonne League Category avec le nom de chaque league ainsi qu'une colone New Index qui réordonne les indexes pour qu'ils débutent à zéro comme cela est préférable pour la modèlisation."
   ]
  },
  {
   "cell_type": "code",
   "execution_count": 36,
   "metadata": {},
   "outputs": [
    {
     "data": {
      "text/html": [
       "<div>\n",
       "<style scoped>\n",
       "    .dataframe tbody tr th:only-of-type {\n",
       "        vertical-align: middle;\n",
       "    }\n",
       "\n",
       "    .dataframe tbody tr th {\n",
       "        vertical-align: top;\n",
       "    }\n",
       "\n",
       "    .dataframe thead th {\n",
       "        text-align: right;\n",
       "    }\n",
       "</style>\n",
       "<table border=\"1\" class=\"dataframe\">\n",
       "  <thead>\n",
       "    <tr style=\"text-align: right;\">\n",
       "      <th></th>\n",
       "      <th>NewIndex</th>\n",
       "      <th>LeagueCategory</th>\n",
       "      <th>GameID</th>\n",
       "    </tr>\n",
       "  </thead>\n",
       "  <tbody>\n",
       "    <tr>\n",
       "      <th>0</th>\n",
       "      <td>0</td>\n",
       "      <td>Bronze</td>\n",
       "      <td>167</td>\n",
       "    </tr>\n",
       "    <tr>\n",
       "      <th>1</th>\n",
       "      <td>1</td>\n",
       "      <td>Silver</td>\n",
       "      <td>347</td>\n",
       "    </tr>\n",
       "    <tr>\n",
       "      <th>2</th>\n",
       "      <td>2</td>\n",
       "      <td>Gold</td>\n",
       "      <td>553</td>\n",
       "    </tr>\n",
       "    <tr>\n",
       "      <th>3</th>\n",
       "      <td>3</td>\n",
       "      <td>Platinum</td>\n",
       "      <td>811</td>\n",
       "    </tr>\n",
       "    <tr>\n",
       "      <th>4</th>\n",
       "      <td>4</td>\n",
       "      <td>Diamond</td>\n",
       "      <td>806</td>\n",
       "    </tr>\n",
       "    <tr>\n",
       "      <th>5</th>\n",
       "      <td>5</td>\n",
       "      <td>Master</td>\n",
       "      <td>621</td>\n",
       "    </tr>\n",
       "    <tr>\n",
       "      <th>6</th>\n",
       "      <td>6</td>\n",
       "      <td>Professional</td>\n",
       "      <td>55</td>\n",
       "    </tr>\n",
       "  </tbody>\n",
       "</table>\n",
       "</div>"
      ],
      "text/plain": [
       "   NewIndex LeagueCategory  GameID\n",
       "0         0         Bronze     167\n",
       "1         1         Silver     347\n",
       "2         2           Gold     553\n",
       "3         3       Platinum     811\n",
       "4         4        Diamond     806\n",
       "5         5         Master     621\n",
       "6         6   Professional      55"
      ]
     },
     "execution_count": 36,
     "metadata": {},
     "output_type": "execute_result"
    }
   ],
   "source": [
    "Par_League = SkillCraft_DF.groupby(['NewIndex', 'LeagueCategory']).GameID.count()\n",
    "Par_League = pd.DataFrame(Par_League)\n",
    "Par_League = Par_League.reset_index()\n",
    "Par_League"
   ]
  },
  {
   "cell_type": "markdown",
   "metadata": {},
   "source": [
    "Dans l'article une question se pose concernant l'inégalité des valeurs entre les différentes leagues et leur influence sur l'importance des variables. Les chercheurs testent donc les memes modèles sur un dataset équilibré à 125 colonnes pour chaque (excluant les professionels). Ils observent tout de meme les memes variations des rangs d'importance des attributs. Nous décidons selon ces constats de ne pas équilibrer les nombres de données par league pour ne pas perdre trop d'information."
   ]
  },
  {
   "cell_type": "code",
   "execution_count": 38,
   "metadata": {},
   "outputs": [
    {
     "data": {
      "text/plain": [
       "Text(0.5, 1.0, 'Nombre de joueurs par catégorie de league StarCraft')"
      ]
     },
     "execution_count": 38,
     "metadata": {},
     "output_type": "execute_result"
    },
    {
     "data": {
      "image/png": "[encoded data removed]",
      "text/plain": [
       "<Figure size 504x360 with 1 Axes>"
      ]
     },
     "metadata": {
      "needs_background": "light"
     },
     "output_type": "display_data"
    }
   ],
   "source": [
    "plt.rcParams['figure.figsize'] = [7, 5]\n",
    "plt.bar(Par_League.LeagueCategory, Par_League.GameID);\n",
    "plt.title('Nombre de joueurs par catégorie de league StarCraft')"
   ]
  },
  {
   "cell_type": "code",
   "execution_count": 48,
   "metadata": {},
   "outputs": [
    {
     "data": {
      "image/png": "[encoded data removed]",
      "text/plain": [
       "<Figure size 1800x2160 with 15 Axes>"
      ]
     },
     "metadata": {
      "needs_background": "light"
     },
     "output_type": "display_data"
    }
   ],
   "source": [
    "plt.rcParams['figure.figsize'] = [25, 30]\n",
    "\n",
    "Par_League_Mean = SkillCraft_DF.groupby(['NewIndex', 'LeagueCategory']).mean()\n",
    "Par_League_Mean = Par_League_Mean.reset_index()\n",
    "Par_League_Mean = Par_League_Mean.drop(columns=['LeagueIndex', 'GameID'])\n",
    "for i in range(2, len(Par_League_Mean.columns)):\n",
    "    plt.subplot(7, 3, i-1)\n",
    "    plt.subplots_adjust(wspace=0.5, hspace=0.5)\n",
    "    plt.plot(Par_League_Mean.LeagueCategory, Par_League_Mean.iloc[:,i])\n",
    "    plt.title('League Category vs ' + Par_League_Mean.columns[i])"
   ]
  },
  {
   "cell_type": "markdown",
   "metadata": {},
   "source": [
    "Nous pouvons constater des attributs qui paraissent évoluer de manière linéaire avec le niveau des joueurs."
   ]
  },
  {
   "cell_type": "code",
   "execution_count": 61,
   "metadata": {},
   "outputs": [],
   "source": [
    "def draw_confusion_matrix(y_test, predictions, title):\n",
    "    \"\"\"\n",
    "    Créé et affiche la matrice de confusion des données de Y_test et de celles sur lesquelles on a fait la prédiction.\n",
    "    Permet d'évaluer la qualité de la classification souhaitée.\n",
    "    Plus les valeurs diagonales sont élevées, plus le classifieur prédit correctement.\n",
    "    \"\"\"\n",
    "    from sklearn.metrics import confusion_matrix,accuracy_score\n",
    "    import matplotlib.pyplot as plt\n",
    "    cm    = confusion_matrix(y_test, predictions)\n",
    "    accur = accuracy_score  (y_test, predictions)\n",
    "    \n",
    "    plt.matshow  (cm)\n",
    "    plt.ylabel   ('True Label')\n",
    "    plt.xlabel   ('Predicted Label')\n",
    "    plt.suptitle ('Confusion matrix (Accuracy of %.2f) for [%s]'%(accur,title))\n",
    "    plt.colorbar ()\n",
    "    plt.show     ()"
   ]
  },
  {
   "cell_type": "markdown",
   "metadata": {},
   "source": [
    "**Modele 1: Régression Linéaire**\n",
    "\n",
    "Nous allons tout d'abords comparer la performance avec des modèles de regression linéaire."
   ]
  },
  {
   "cell_type": "code",
   "execution_count": 186,
   "metadata": {},
   "outputs": [],
   "source": [
    "x = SkillCraft_DF[['APM','SelectByHotkeys', 'AssignToHotkeys', 'UniqueHotkeys', 'MinimapAttacks',\n",
    "       'MinimapRightClicks', 'NumberOfPACs', 'GapBetweenPACs', 'ActionLatency',\n",
    "       'ActionsInPAC', 'TotalMapExplored', 'WorkersMade', 'UniqueUnitsMade',\n",
    "       'ComplexUnitsMade', 'ComplexAbilitiesUsed']]\n",
    "y = SkillCraft_DF['NewIndex']"
   ]
  },
  {
   "cell_type": "code",
   "execution_count": 187,
   "metadata": {},
   "outputs": [],
   "source": [
    "X_train, X_test, Y_train, Y_test = train_test_split(x, y, test_size = 0.2)"
   ]
  },
  {
   "cell_type": "code",
   "execution_count": 188,
   "metadata": {},
   "outputs": [
    {
     "data": {
      "text/plain": [
       "LinearRegression(copy_X=True, fit_intercept=True, n_jobs=None, normalize=False)"
      ]
     },
     "execution_count": 188,
     "metadata": {},
     "output_type": "execute_result"
    }
   ],
   "source": [
    "LinReg = LinearRegression()\n",
    "LinReg.fit(X_train, Y_train)"
   ]
  },
  {
   "cell_type": "code",
   "execution_count": null,
   "metadata": {},
   "outputs": [],
   "source": [
    "pickle.dump( LinReg, open( \"LinReg.p\", \"wb\" ) )"
   ]
  },
  {
   "cell_type": "code",
   "execution_count": 189,
   "metadata": {},
   "outputs": [
    {
     "name": "stdout",
     "output_type": "stream",
     "text": [
      "1.0072554407591334\n",
      "0.5205433186412594\n"
     ]
    }
   ],
   "source": [
    "LinReg_pred = LinReg.predict(X_test)\n",
    "LinReg_rmse = (np.sqrt(mean_squared_error(Y_test, LinReg_pred)))\n",
    "LinReg_r2 = r2_score(Y_test, LinReg_pred)\n",
    "print(LinReg_rmse)\n",
    "print(LinReg_r2)"
   ]
  },
  {
   "cell_type": "markdown",
   "metadata": {},
   "source": [
    "On relance le modèle, cette fois-ci sans les données dépendantes du PAC soit les quatre données suivantes :\n",
    "*  NumberOfPACs: Number of PACs per timestamp (continuous)\n",
    "*  GapBetweenPACs: Mean duration in milliseconds between PACs (continuous)\n",
    "*  ActionLatency: Mean latency from the onset of a PACs to their first action in milliseconds (continuous)\n",
    "*  ActionsInPAC: Mean number of actions within each PAC (continuous)"
   ]
  },
  {
   "cell_type": "code",
   "execution_count": 190,
   "metadata": {},
   "outputs": [],
   "source": [
    "x_sansPAC = SkillCraft_DF[['APM','SelectByHotkeys', 'AssignToHotkeys', 'UniqueHotkeys', 'MinimapAttacks',\n",
    "       'MinimapRightClicks','TotalMapExplored', 'WorkersMade', 'UniqueUnitsMade',\n",
    "       'ComplexUnitsMade', 'ComplexAbilitiesUsed']]\n",
    "y_sansPAC = SkillCraft_DF['NewIndex']"
   ]
  },
  {
   "cell_type": "code",
   "execution_count": 191,
   "metadata": {},
   "outputs": [
    {
     "name": "stdout",
     "output_type": "stream",
     "text": [
      "1.1004522255194054\n",
      "0.44180941793893913\n"
     ]
    }
   ],
   "source": [
    "X_sansPAC_train, X_sansPAC_test, Y_sansPAC_train, Y_sansPAC_test = train_test_split(x_sansPAC, y_sansPAC, test_size = 0.2)\n",
    "\n",
    "LinReg = LinearRegression()\n",
    "LinReg.fit(X_sansPAC_train, Y_sansPAC_train)\n",
    "\n",
    "LinReg_sansPAC_pred = LinReg.predict(X_sansPAC_test)\n",
    "LinReg_sansPAC_rmse = (np.sqrt(mean_squared_error(Y_sansPAC_test, LinReg_sansPAC_pred)))\n",
    "LinReg_sansPAC_r2 = r2_score(Y_sansPAC_test, LinReg_sansPAC_pred)\n",
    "print(LinReg_sansPAC_rmse)\n",
    "print(LinReg_sansPAC_r2)"
   ]
  },
  {
   "cell_type": "markdown",
   "metadata": {},
   "source": [
    "**Modele 2: KNN**\n",
    "\n",
    "Pour ce modèle nous devons normaliser nos données."
   ]
  },
  {
   "cell_type": "code",
   "execution_count": 72,
   "metadata": {},
   "outputs": [
    {
     "data": {
      "text/html": [
       "<div>\n",
       "<style scoped>\n",
       "    .dataframe tbody tr th:only-of-type {\n",
       "        vertical-align: middle;\n",
       "    }\n",
       "\n",
       "    .dataframe tbody tr th {\n",
       "        vertical-align: top;\n",
       "    }\n",
       "\n",
       "    .dataframe thead th {\n",
       "        text-align: right;\n",
       "    }\n",
       "</style>\n",
       "<table border=\"1\" class=\"dataframe\">\n",
       "  <thead>\n",
       "    <tr style=\"text-align: right;\">\n",
       "      <th></th>\n",
       "      <th>GameID</th>\n",
       "      <th>LeagueIndex</th>\n",
       "      <th>APM</th>\n",
       "      <th>SelectByHotkeys</th>\n",
       "      <th>AssignToHotkeys</th>\n",
       "      <th>UniqueHotkeys</th>\n",
       "      <th>MinimapAttacks</th>\n",
       "      <th>MinimapRightClicks</th>\n",
       "      <th>NumberOfPACs</th>\n",
       "      <th>GapBetweenPACs</th>\n",
       "      <th>ActionLatency</th>\n",
       "      <th>ActionsInPAC</th>\n",
       "      <th>TotalMapExplored</th>\n",
       "      <th>WorkersMade</th>\n",
       "      <th>UniqueUnitsMade</th>\n",
       "      <th>ComplexUnitsMade</th>\n",
       "      <th>ComplexAbilitiesUsed</th>\n",
       "      <th>NewIndex</th>\n",
       "    </tr>\n",
       "  </thead>\n",
       "  <tbody>\n",
       "    <tr>\n",
       "      <th>0</th>\n",
       "      <td>0.000000</td>\n",
       "      <td>0.571429</td>\n",
       "      <td>0.330799</td>\n",
       "      <td>0.081580</td>\n",
       "      <td>0.125384</td>\n",
       "      <td>0.7</td>\n",
       "      <td>0.036382</td>\n",
       "      <td>0.097089</td>\n",
       "      <td>0.587217</td>\n",
       "      <td>0.112814</td>\n",
       "      <td>0.110151</td>\n",
       "      <td>0.164167</td>\n",
       "      <td>0.433962</td>\n",
       "      <td>0.260161</td>\n",
       "      <td>0.363636</td>\n",
       "      <td>0.0</td>\n",
       "      <td>0.000000</td>\n",
       "      <td>0.666667</td>\n",
       "    </tr>\n",
       "    <tr>\n",
       "      <th>1</th>\n",
       "      <td>0.000299</td>\n",
       "      <td>0.571429</td>\n",
       "      <td>0.291411</td>\n",
       "      <td>0.076675</td>\n",
       "      <td>0.148079</td>\n",
       "      <td>0.4</td>\n",
       "      <td>0.097391</td>\n",
       "      <td>0.107017</td>\n",
       "      <td>0.510897</td>\n",
       "      <td>0.113906</td>\n",
       "      <td>0.119858</td>\n",
       "      <td>0.169772</td>\n",
       "      <td>0.320755</td>\n",
       "      <td>0.220120</td>\n",
       "      <td>0.272727</td>\n",
       "      <td>0.0</td>\n",
       "      <td>0.067312</td>\n",
       "      <td>0.666667</td>\n",
       "    </tr>\n",
       "    <tr>\n",
       "      <th>2</th>\n",
       "      <td>0.000398</td>\n",
       "      <td>0.428571</td>\n",
       "      <td>0.130248</td>\n",
       "      <td>0.025554</td>\n",
       "      <td>0.191515</td>\n",
       "      <td>0.4</td>\n",
       "      <td>0.097248</td>\n",
       "      <td>0.114188</td>\n",
       "      <td>0.316384</td>\n",
       "      <td>0.164793</td>\n",
       "      <td>0.336628</td>\n",
       "      <td>0.121319</td>\n",
       "      <td>0.320755</td>\n",
       "      <td>0.131610</td>\n",
       "      <td>0.363636</td>\n",
       "      <td>0.0</td>\n",
       "      <td>0.061212</td>\n",
       "      <td>0.500000</td>\n",
       "    </tr>\n",
       "    <tr>\n",
       "      <th>3</th>\n",
       "      <td>0.000498</td>\n",
       "      <td>0.285714</td>\n",
       "      <td>0.232595</td>\n",
       "      <td>0.023987</td>\n",
       "      <td>0.121620</td>\n",
       "      <td>0.1</td>\n",
       "      <td>0.017645</td>\n",
       "      <td>0.134480</td>\n",
       "      <td>0.437036</td>\n",
       "      <td>0.097857</td>\n",
       "      <td>0.194654</td>\n",
       "      <td>0.174137</td>\n",
       "      <td>0.264151</td>\n",
       "      <td>0.068848</td>\n",
       "      <td>0.454545</td>\n",
       "      <td>0.0</td>\n",
       "      <td>0.124390</td>\n",
       "      <td>0.333333</td>\n",
       "    </tr>\n",
       "    <tr>\n",
       "      <th>4</th>\n",
       "      <td>0.000597</td>\n",
       "      <td>0.285714</td>\n",
       "      <td>0.274168</td>\n",
       "      <td>0.026365</td>\n",
       "      <td>0.186810</td>\n",
       "      <td>0.2</td>\n",
       "      <td>0.000000</td>\n",
       "      <td>0.328786</td>\n",
       "      <td>0.237884</td>\n",
       "      <td>0.069516</td>\n",
       "      <td>0.249462</td>\n",
       "      <td>0.444035</td>\n",
       "      <td>0.188679</td>\n",
       "      <td>0.216374</td>\n",
       "      <td>0.181818</td>\n",
       "      <td>0.0</td>\n",
       "      <td>0.006244</td>\n",
       "      <td>0.333333</td>\n",
       "    </tr>\n",
       "  </tbody>\n",
       "</table>\n",
       "</div>"
      ],
      "text/plain": [
       "     GameID  LeagueIndex       APM  SelectByHotkeys  AssignToHotkeys  \\\n",
       "0  0.000000     0.571429  0.330799         0.081580         0.125384   \n",
       "1  0.000299     0.571429  0.291411         0.076675         0.148079   \n",
       "2  0.000398     0.428571  0.130248         0.025554         0.191515   \n",
       "3  0.000498     0.285714  0.232595         0.023987         0.121620   \n",
       "4  0.000597     0.285714  0.274168         0.026365         0.186810   \n",
       "\n",
       "   UniqueHotkeys  MinimapAttacks  MinimapRightClicks  NumberOfPACs  \\\n",
       "0            0.7        0.036382            0.097089      0.587217   \n",
       "1            0.4        0.097391            0.107017      0.510897   \n",
       "2            0.4        0.097248            0.114188      0.316384   \n",
       "3            0.1        0.017645            0.134480      0.437036   \n",
       "4            0.2        0.000000            0.328786      0.237884   \n",
       "\n",
       "   GapBetweenPACs  ActionLatency  ActionsInPAC  TotalMapExplored  WorkersMade  \\\n",
       "0        0.112814       0.110151      0.164167          0.433962     0.260161   \n",
       "1        0.113906       0.119858      0.169772          0.320755     0.220120   \n",
       "2        0.164793       0.336628      0.121319          0.320755     0.131610   \n",
       "3        0.097857       0.194654      0.174137          0.264151     0.068848   \n",
       "4        0.069516       0.249462      0.444035          0.188679     0.216374   \n",
       "\n",
       "   UniqueUnitsMade  ComplexUnitsMade  ComplexAbilitiesUsed  NewIndex  \n",
       "0         0.363636               0.0              0.000000  0.666667  \n",
       "1         0.272727               0.0              0.067312  0.666667  \n",
       "2         0.363636               0.0              0.061212  0.500000  \n",
       "3         0.454545               0.0              0.124390  0.333333  \n",
       "4         0.181818               0.0              0.006244  0.333333  "
      ]
     },
     "execution_count": 72,
     "metadata": {},
     "output_type": "execute_result"
    }
   ],
   "source": [
    "scaler = preprocessing.MinMaxScaler()\n",
    "data_norm = scaler.fit_transform(SkillCraft_DF.drop(columns=['LeagueCategory']))\n",
    "SkillCraft_Norm = pd.DataFrame(data_norm, columns=SkillCraft_DF.drop(columns=['LeagueCategory']).columns)\n",
    "SkillCraft_Norm.head()"
   ]
  },
  {
   "cell_type": "code",
   "execution_count": 197,
   "metadata": {},
   "outputs": [],
   "source": [
    "x = SkillCraft_Norm[['APM','SelectByHotkeys', 'AssignToHotkeys', 'UniqueHotkeys', 'MinimapAttacks',\n",
    "       'MinimapRightClicks', 'NumberOfPACs', 'GapBetweenPACs', 'ActionLatency',\n",
    "       'ActionsInPAC', 'TotalMapExplored', 'WorkersMade', 'UniqueUnitsMade',\n",
    "       'ComplexUnitsMade', 'ComplexAbilitiesUsed']]\n",
    "y = SkillCraft_DF['NewIndex']\n",
    "X_train, X_test, Y_train, Y_test = train_test_split(x, y, test_size = 0.2)"
   ]
  },
  {
   "cell_type": "code",
   "execution_count": 198,
   "metadata": {},
   "outputs": [],
   "source": [
    "pipe_KNN = Pipeline([('selector', SelectKBest()), \n",
    "                         ('knn', KNeighborsClassifier())])"
   ]
  },
  {
   "cell_type": "code",
   "execution_count": 83,
   "metadata": {},
   "outputs": [],
   "source": [
    "params_pipe_KNN = {'selector__score_func': [f_classif, mutual_info_classif, chi2],\n",
    "                       'selector__k': [3, 4, 5, 6, 7, 10, SkillCraft_Norm.shape[1]],\n",
    "                       'knn__n_neighbors': [170 ,180 ,190, 200, 250, 300, 400],\n",
    "                       'knn__p': [1,2,5,6,7],\n",
    "                       'knn__algorithm': ['auto', 'ball_tree', 'kd_tree', 'brute'],\n",
    "                       'knn__weights': ['uniform', 'distance']}"
   ]
  },
  {
   "cell_type": "code",
   "execution_count": 84,
   "metadata": {},
   "outputs": [],
   "source": [
    "plt.rcParams['figure.figsize'] = [5, 5]\n",
    "\n",
    "def test_hyperparametres_KNN(hyperparametres):\n",
    "    grid = GridSearchCV(estimator=pipe_KNN, param_grid=hyperparametres, n_jobs=-1, scoring='accuracy')\n",
    "    grid.fit(X_train, Y_train)\n",
    "    draw_confusion_matrix(Y_test, grid.predict(X_test), \"\")\n",
    "    return grid.best_score_, grid.best_estimator_"
   ]
  },
  {
   "cell_type": "code",
   "execution_count": 85,
   "metadata": {},
   "outputs": [
    {
     "data": {
      "image/png": "[encoded data removed]",
      "text/plain": [
       "<Figure size 360x360 with 2 Axes>"
      ]
     },
     "metadata": {
      "needs_background": "light"
     },
     "output_type": "display_data"
    },
    {
     "data": {
      "text/plain": [
       "(0.3846787536430535,\n",
       " Pipeline(memory=None,\n",
       "          steps=[('selector',\n",
       "                  SelectKBest(k=10,\n",
       "                              score_func=<function f_classif at 0x00000210E20F8280>)),\n",
       "                 ('knn',\n",
       "                  KNeighborsClassifier(algorithm='auto', leaf_size=30,\n",
       "                                       metric='minkowski', metric_params=None,\n",
       "                                       n_jobs=None, n_neighbors=250, p=1,\n",
       "                                       weights='uniform'))],\n",
       "          verbose=False))"
      ]
     },
     "execution_count": 85,
     "metadata": {},
     "output_type": "execute_result"
    }
   ],
   "source": [
    "#hyperpara_KNN = params_pipe_KNN\n",
    "#test_hyperparametres_KNN(hyperpara_KNN)"
   ]
  },
  {
   "cell_type": "markdown",
   "metadata": {},
   "source": [
    "On choisi les hyperparamètres suivants.\n",
    "Pour SelectKBest:\n",
    "*     k = 10\n",
    "*     score_func = f_classif\n",
    "\n",
    "Pour KNeighborsClassifier:\n",
    "*     algorithm='auto'\n",
    "*     leaf_size=30\n",
    "*     metric='minkowski'\n",
    "*     metric_params=None\n",
    "*     n_neighbors=250\n",
    "*     p=1\n",
    "*     weights='uniform'"
   ]
  },
  {
   "cell_type": "code",
   "execution_count": 203,
   "metadata": {},
   "outputs": [
    {
     "name": "stdout",
     "output_type": "stream",
     "text": [
      "1.0014869896689576\n",
      "0.4919592291358905\n"
     ]
    }
   ],
   "source": [
    "knn = Pipeline([('selector', SelectKBest(score_func=f_classif, k = 10)), \n",
    "                         ('knn', KNeighborsClassifier(n_neighbors=250, p=1))])\n",
    "knn.fit(X_train,Y_train)\n",
    "y_pred = knn.predict(X_test)\n",
    "KNN_rmse = (np.sqrt(mean_squared_error(Y_test, y_pred)))\n",
    "KNN_r2 = r2_score(Y_test, y_pred)\n",
    "print(KNN_rmse)\n",
    "print(KNN_r2)"
   ]
  },
  {
   "cell_type": "code",
   "execution_count": 204,
   "metadata": {},
   "outputs": [],
   "source": [
    "x_sansPAC = SkillCraft_Norm[['APM','SelectByHotkeys', 'AssignToHotkeys', 'UniqueHotkeys', 'MinimapAttacks',\n",
    "       'MinimapRightClicks','TotalMapExplored', 'WorkersMade', 'UniqueUnitsMade',\n",
    "       'ComplexUnitsMade', 'ComplexAbilitiesUsed']]\n",
    "y_sansPAC = SkillCraft_DF['NewIndex']\n",
    "X_sansPAC_train, X_sansPAC_test, Y_sansPAC_train, Y_sansPAC_test = train_test_split(x_sansPAC, y_sansPAC, test_size = 0.2)"
   ]
  },
  {
   "cell_type": "code",
   "execution_count": 205,
   "metadata": {},
   "outputs": [
    {
     "name": "stdout",
     "output_type": "stream",
     "text": [
      "1.175772289259479\n",
      "0.3222504366971043\n"
     ]
    }
   ],
   "source": [
    "knn = Pipeline([('selector', SelectKBest(score_func=f_classif, k = 10)), \n",
    "                         ('knn', KNeighborsClassifier(n_neighbors=250, p=1))])\n",
    "knn.fit(X_sansPAC_train,Y_sansPAC_train)\n",
    "y_sansPAC_pred = knn.predict(X_sansPAC_test)\n",
    "KNN_sansPAC_rmse = (np.sqrt(mean_squared_error(Y_sansPAC_test, y_sansPAC_pred)))\n",
    "KNN_sansPAC_r2 = r2_score(Y_sansPAC_test, y_sansPAC_pred)\n",
    "print(KNN_sansPAC_rmse)\n",
    "print(KNN_sansPAC_r2)"
   ]
  },
  {
   "cell_type": "markdown",
   "metadata": {},
   "source": [
    "**Modele 3: Random Forest**"
   ]
  },
  {
   "cell_type": "code",
   "execution_count": 92,
   "metadata": {},
   "outputs": [],
   "source": [
    "x = SkillCraft_DF[['APM','SelectByHotkeys', 'AssignToHotkeys', 'UniqueHotkeys', 'MinimapAttacks',\n",
    "       'MinimapRightClicks', 'NumberOfPACs', 'GapBetweenPACs', 'ActionLatency',\n",
    "       'ActionsInPAC', 'TotalMapExplored', 'WorkersMade', 'UniqueUnitsMade',\n",
    "       'ComplexUnitsMade', 'ComplexAbilitiesUsed']]\n",
    "y = SkillCraft_DF['NewIndex']\n",
    "X_train, X_test, Y_train, Y_test = train_test_split(x, y, test_size = 0.2)"
   ]
  },
  {
   "cell_type": "code",
   "execution_count": 93,
   "metadata": {},
   "outputs": [
    {
     "data": {
      "text/plain": [
       "array([0.39583333, 0.40029762, 0.39880952, 0.39136905, 0.38392857])"
      ]
     },
     "execution_count": 93,
     "metadata": {},
     "output_type": "execute_result"
    }
   ],
   "source": [
    "clf = RandomForestClassifier()\n",
    "\n",
    "cross_val_score(clf, x, y, n_jobs=-1)"
   ]
  },
  {
   "cell_type": "code",
   "execution_count": 94,
   "metadata": {},
   "outputs": [],
   "source": [
    "plt.rcParams['figure.figsize'] = [5, 5]\n",
    "\n",
    "def test_hyperparametres_RF(hyperparametres):\n",
    "    grid= GridSearchCV(RandomForestClassifier(), hyperparametres, n_jobs=-1)\n",
    "    grid.fit(X_train, Y_train)\n",
    "    draw_confusion_matrix(Y_test, grid.predict(X_test), \"\")\n",
    "    return grid.best_score_, grid.best_estimator_"
   ]
  },
  {
   "cell_type": "code",
   "execution_count": 95,
   "metadata": {},
   "outputs": [
    {
     "data": {
      "image/png": "[encoded data removed]",
      "text/plain": [
       "<Figure size 360x360 with 2 Axes>"
      ]
     },
     "metadata": {
      "needs_background": "light"
     },
     "output_type": "display_data"
    },
    {
     "data": {
      "text/plain": [
       "(0.41928031955030354,\n",
       " RandomForestClassifier(bootstrap=True, ccp_alpha=0.0, class_weight=None,\n",
       "                        criterion='gini', max_depth=None, max_features='sqrt',\n",
       "                        max_leaf_nodes=None, max_samples=None,\n",
       "                        min_impurity_decrease=0.0, min_impurity_split=None,\n",
       "                        min_samples_leaf=1, min_samples_split=5,\n",
       "                        min_weight_fraction_leaf=0.0, n_estimators=300,\n",
       "                        n_jobs=None, oob_score=False, random_state=None,\n",
       "                        verbose=0, warm_start=True))"
      ]
     },
     "execution_count": 95,
     "metadata": {},
     "output_type": "execute_result"
    }
   ],
   "source": [
    "hyperparametres = {'n_estimators' : [200,  300, 500, 1000],\n",
    "                   'min_samples_leaf' : [3, 1, 7],\n",
    "                   'criterion' : [\"gini\", \"entropy\"],\n",
    "                   'max_features' : [\"auto\", \"sqrt\", \"log2\"],\n",
    "                   'max_depth' : [None, 10, 20, 40],\n",
    "                   'class_weight' : [None, \"balanced\"],\n",
    "                   'warm_start' : [True, False],\n",
    "                   'min_samples_split' : [2 , 5, 10, 20]}\n",
    "\n",
    "test_hyperparametres_RF(hyperparametres)"
   ]
  },
  {
   "cell_type": "markdown",
   "metadata": {},
   "source": [
    "On peut ensuite essayer d'affiner ces paramètres."
   ]
  },
  {
   "cell_type": "code",
   "execution_count": 96,
   "metadata": {},
   "outputs": [
    {
     "data": {
      "image/png": "[encoded data removed]",
      "text/plain": [
       "<Figure size 360x360 with 2 Axes>"
      ]
     },
     "metadata": {
      "needs_background": "light"
     },
     "output_type": "display_data"
    },
    {
     "data": {
      "text/plain": [
       "(0.4144441444622126,\n",
       " RandomForestClassifier(bootstrap=True, ccp_alpha=0.0, class_weight=None,\n",
       "                        criterion='gini', max_depth=None, max_features='sqrt',\n",
       "                        max_leaf_nodes=None, max_samples=None,\n",
       "                        min_impurity_decrease=0.0, min_impurity_split=None,\n",
       "                        min_samples_leaf=2, min_samples_split=8,\n",
       "                        min_weight_fraction_leaf=0.0, n_estimators=250,\n",
       "                        n_jobs=None, oob_score=False, random_state=None,\n",
       "                        verbose=0, warm_start=True))"
      ]
     },
     "execution_count": 96,
     "metadata": {},
     "output_type": "execute_result"
    }
   ],
   "source": [
    "hyperparametres = {'n_estimators' : [200,250, 300, 350, 400],\n",
    "                   'min_samples_leaf' : [1,2,3],\n",
    "                   'criterion' : [\"gini\"],\n",
    "                   'max_features' : [\"sqrt\"],\n",
    "                   'max_depth' : [None],\n",
    "                   'class_weight' : [None],\n",
    "                   'warm_start' : [True],\n",
    "                   'min_samples_split' : [3, 4, 5, 6,7,8]}\n",
    "\n",
    "test_hyperparametres_RF(hyperparametres)"
   ]
  },
  {
   "cell_type": "markdown",
   "metadata": {},
   "source": [
    "On a finalement les paramètres suivants:\n",
    "*    'n_estimators' : [250],\n",
    "*    'min_samples_leaf' : [2],\n",
    "*    'criterion' : [\"gini\"],\n",
    "*    'max_features' : [\"sqrt\"],\n",
    "*    'max_depth' : [None],\n",
    "*    'class_weight' : [None],\n",
    "*    'warm_start' : [True],\n",
    "*    'min_samples_split' : [8]}"
   ]
  },
  {
   "cell_type": "code",
   "execution_count": 128,
   "metadata": {},
   "outputs": [
    {
     "data": {
      "text/plain": [
       "RandomForestClassifier(bootstrap=True, ccp_alpha=0.0, class_weight=None,\n",
       "                       criterion='gini', max_depth=None, max_features='sqrt',\n",
       "                       max_leaf_nodes=None, max_samples=None,\n",
       "                       min_impurity_decrease=0.0, min_impurity_split=None,\n",
       "                       min_samples_leaf=2, min_samples_split=8,\n",
       "                       min_weight_fraction_leaf=0.0, n_estimators=250,\n",
       "                       n_jobs=None, oob_score=False, random_state=None,\n",
       "                       verbose=0, warm_start=True)"
      ]
     },
     "execution_count": 128,
     "metadata": {},
     "output_type": "execute_result"
    }
   ],
   "source": [
    "rf = RandomForestClassifier(n_estimators= 250, min_samples_leaf=2, criterion='gini',\n",
    "                             max_features='sqrt', max_depth=None, class_weight=None,\n",
    "                             warm_start=True,min_samples_split=8)\n",
    "rf.fit(X_train, Y_train)"
   ]
  },
  {
   "cell_type": "code",
   "execution_count": 124,
   "metadata": {},
   "outputs": [
    {
     "name": "stdout",
     "output_type": "stream",
     "text": [
      "[0.02370856 0.0305316  0.0383918  0.03926003 0.04579102 0.05780253\n",
      " 0.06092484 0.06623711 0.06662816 0.07709582 0.08532406 0.08815063\n",
      " 0.08818686 0.10627787 0.12568913]\n"
     ]
    }
   ],
   "source": [
    "cols = ['APM','SelectByHotkeys', 'AssignToHotkeys', 'UniqueHotkeys', 'MinimapAttacks',\n",
    "'MinimapRightClicks', 'NumberOfPACs', 'GapBetweenPACs', 'ActionLatency',\n",
    "'ActionsInPAC', 'TotalMapExplored', 'WorkersMade', 'UniqueUnitsMade',\n",
    "'ComplexUnitsMade', 'ComplexAbilitiesUsed']\n",
    "\n",
    "importances = rf.feature_importances_\n",
    "print(np.sort(importances))"
   ]
  },
  {
   "cell_type": "code",
   "execution_count": 125,
   "metadata": {},
   "outputs": [],
   "source": [
    "def sort_list(list1, list2):\n",
    " \n",
    "    zipped_pairs = zip(list2, list1)\n",
    " \n",
    "    z = [x for _, x in sorted(zipped_pairs)]\n",
    "     \n",
    "    return z"
   ]
  },
  {
   "cell_type": "code",
   "execution_count": 126,
   "metadata": {},
   "outputs": [
    {
     "data": {
      "text/plain": [
       "['ComplexUnitsMade',\n",
       " 'UniqueUnitsMade',\n",
       " 'UniqueHotkeys',\n",
       " 'ComplexAbilitiesUsed',\n",
       " 'TotalMapExplored',\n",
       " 'MinimapRightClicks',\n",
       " 'ActionsInPAC',\n",
       " 'WorkersMade',\n",
       " 'MinimapAttacks',\n",
       " 'AssignToHotkeys',\n",
       " 'NumberOfPACs',\n",
       " 'SelectByHotkeys',\n",
       " 'GapBetweenPACs',\n",
       " 'APM',\n",
       " 'ActionLatency']"
      ]
     },
     "execution_count": 126,
     "metadata": {},
     "output_type": "execute_result"
    }
   ],
   "source": [
    "sort_list(cols, importances)"
   ]
  },
  {
   "cell_type": "markdown",
   "metadata": {},
   "source": [
    "Pour ce modele random forest les 5 attributs les plus importan.ts sont ActionLatency, APM, GapBetweenPACs, SelectByHotkeys, NumberOfPACs."
   ]
  },
  {
   "cell_type": "code",
   "execution_count": 129,
   "metadata": {},
   "outputs": [
    {
     "name": "stdout",
     "output_type": "stream",
     "text": [
      "1.070436048222094\n",
      "0.4624731594972529\n"
     ]
    }
   ],
   "source": [
    "y_pred = rf.predict(X_test)\n",
    "RF_rmse = (np.sqrt(mean_squared_error(Y_test, y_pred)))\n",
    "RF_r2 = r2_score(Y_test, y_pred)\n",
    "print(RF_rmse)\n",
    "print(RF_r2)"
   ]
  },
  {
   "cell_type": "code",
   "execution_count": 132,
   "metadata": {},
   "outputs": [],
   "source": [
    "x_sansPAC = SkillCraft_DF[['APM','SelectByHotkeys', 'AssignToHotkeys', 'UniqueHotkeys', 'MinimapAttacks',\n",
    "       'MinimapRightClicks','TotalMapExplored', 'WorkersMade', 'UniqueUnitsMade',\n",
    "       'ComplexUnitsMade', 'ComplexAbilitiesUsed']]\n",
    "y_sansPAC = SkillCraft_DF['NewIndex']\n",
    "X_sansPAC_train, X_sansPAC_test, Y_sansPAC_train, Y_sansPAC_test = train_test_split(x_sansPAC, y_sansPAC, test_size = 0.2)"
   ]
  },
  {
   "cell_type": "code",
   "execution_count": 133,
   "metadata": {},
   "outputs": [
    {
     "data": {
      "text/plain": [
       "RandomForestClassifier(bootstrap=True, ccp_alpha=0.0, class_weight=None,\n",
       "                       criterion='gini', max_depth=None, max_features='sqrt',\n",
       "                       max_leaf_nodes=None, max_samples=None,\n",
       "                       min_impurity_decrease=0.0, min_impurity_split=None,\n",
       "                       min_samples_leaf=2, min_samples_split=8,\n",
       "                       min_weight_fraction_leaf=0.0, n_estimators=250,\n",
       "                       n_jobs=None, oob_score=False, random_state=None,\n",
       "                       verbose=0, warm_start=True)"
      ]
     },
     "execution_count": 133,
     "metadata": {},
     "output_type": "execute_result"
    }
   ],
   "source": [
    "rf = RandomForestClassifier(n_estimators= 250, min_samples_leaf=2, criterion='gini',\n",
    "                             max_features='sqrt', max_depth=None, class_weight=None,\n",
    "                             warm_start=True,min_samples_split=8)\n",
    "rf.fit(X_sansPAC_train, Y_sansPAC_train)"
   ]
  },
  {
   "cell_type": "code",
   "execution_count": 134,
   "metadata": {},
   "outputs": [
    {
     "name": "stdout",
     "output_type": "stream",
     "text": [
      "1.1273124382057236\n",
      "0.4157967227333018\n"
     ]
    }
   ],
   "source": [
    "y_sansPAC_pred = rf.predict(X_sansPAC_test)\n",
    "RF_sansPAC_rmse = (np.sqrt(mean_squared_error(Y_sansPAC_test, y_sansPAC_pred)))\n",
    "RF_sansPAC_r2 = r2_score(Y_sansPAC_test, y_sansPAC_pred)\n",
    "print(RF_sansPAC_rmse)\n",
    "print(RF_sansPAC_r2)"
   ]
  },
  {
   "cell_type": "markdown",
   "metadata": {},
   "source": [
    "**Modele 4: Support Vector Classification**"
   ]
  },
  {
   "cell_type": "code",
   "execution_count": 162,
   "metadata": {},
   "outputs": [],
   "source": [
    "x = SkillCraft_DF[['APM','SelectByHotkeys', 'AssignToHotkeys', 'UniqueHotkeys', 'MinimapAttacks',\n",
    "       'MinimapRightClicks', 'NumberOfPACs', 'GapBetweenPACs', 'ActionLatency',\n",
    "       'ActionsInPAC', 'TotalMapExplored', 'WorkersMade', 'UniqueUnitsMade',\n",
    "       'ComplexUnitsMade', 'ComplexAbilitiesUsed']]\n",
    "y = SkillCraft_DF['NewIndex']\n",
    "X_train, X_test, Y_train, Y_test = train_test_split(x, y, test_size = 0.2)"
   ]
  },
  {
   "cell_type": "code",
   "execution_count": 142,
   "metadata": {},
   "outputs": [
    {
     "data": {
      "text/plain": [
       "array([0.39880952, 0.40178571, 0.40922619, 0.38095238, 0.37053571])"
      ]
     },
     "execution_count": 142,
     "metadata": {},
     "output_type": "execute_result"
    }
   ],
   "source": [
    "pipe_SVC = Pipeline([('scaler', MinMaxScaler()), \n",
    "                         ('svc', SVC())])\n",
    "cross_val_score(pipe_SVC, x, y, n_jobs=-1)"
   ]
  },
  {
   "cell_type": "code",
   "execution_count": 143,
   "metadata": {},
   "outputs": [],
   "source": [
    "def test_hyperparametres_SVC(hyperparametres):\n",
    "    svc = make_pipeline(MinMaxScaler(), SVC())\n",
    "    grid = GridSearchCV(estimator=pipe_SVC, param_grid=hyperparametres, n_jobs=-1, scoring='accuracy')\n",
    "    grid.fit(X_train, Y_train)\n",
    "    draw_confusion_matrix(Y_test, grid.predict(X_test), \"\")\n",
    "    return grid.best_score_, grid.best_estimator_"
   ]
  },
  {
   "cell_type": "code",
   "execution_count": 144,
   "metadata": {},
   "outputs": [
    {
     "data": {
      "image/png": "[encoded data removed]",
      "text/plain": [
       "<Figure size 360x360 with 2 Axes>"
      ]
     },
     "metadata": {
      "needs_background": "light"
     },
     "output_type": "display_data"
    },
    {
     "data": {
      "text/plain": [
       "(0.38616366569057065,\n",
       " Pipeline(memory=None,\n",
       "          steps=[('scaler', MinMaxScaler(copy=True, feature_range=(0, 1))),\n",
       "                 ('svc',\n",
       "                  SVC(C=200, break_ties=False, cache_size=200, class_weight=None,\n",
       "                      coef0=0.0, decision_function_shape='ovr', degree=3,\n",
       "                      gamma=0.015, kernel='rbf', max_iter=-1, probability=False,\n",
       "                      random_state=None, shrinking=True, tol=0.001,\n",
       "                      verbose=False))],\n",
       "          verbose=False))"
      ]
     },
     "execution_count": 144,
     "metadata": {},
     "output_type": "execute_result"
    }
   ],
   "source": [
    "params_pipe_SVC = {'svc__gamma' : [0.01, 0.1, 0.5, 0.015],\n",
    "                  \"svc__kernel\" : ['linear', 'poly', 'rbf', 'sigmoid'],\n",
    "                  \"svc__C\" : [105, 200]}\n",
    "test_hyperparametres_SVC(params_pipe_SVC)"
   ]
  },
  {
   "cell_type": "code",
   "execution_count": 145,
   "metadata": {},
   "outputs": [
    {
     "data": {
      "image/png": "[encoded data removed]",
      "text/plain": [
       "<Figure size 360x360 with 2 Axes>"
      ]
     },
     "metadata": {
      "needs_background": "light"
     },
     "output_type": "display_data"
    },
    {
     "data": {
      "text/plain": [
       "(0.38393179788581755,\n",
       " Pipeline(memory=None,\n",
       "          steps=[('scaler', MinMaxScaler(copy=True, feature_range=(0, 1))),\n",
       "                 ('svc',\n",
       "                  SVC(C=150, break_ties=False, cache_size=200, class_weight=None,\n",
       "                      coef0=0.0, decision_function_shape='ovr', degree=3,\n",
       "                      gamma='scale', kernel='linear', max_iter=-1,\n",
       "                      probability=True, random_state=None, shrinking=True,\n",
       "                      tol=0.001, verbose=False))],\n",
       "          verbose=False))"
      ]
     },
     "execution_count": 145,
     "metadata": {},
     "output_type": "execute_result"
    }
   ],
   "source": [
    "params_pipe_SVC = {'svc__gamma' : ['scale', 'auto',0.001, 0.01, 0.012, 0.015, 0.018,0.02],\n",
    "                  \"svc__kernel\" : ['linear', 'rdf'],\n",
    "                  \"svc__probability\": [True,False],\n",
    "                  \"svc__class_weight\"   : [None, 'balanced'],\n",
    "                  \"svc__C\" : [1.0, 0.5,0.1,150,200, 250,300]}\n",
    "test_hyperparametres_SVC(params_pipe_SVC)"
   ]
  },
  {
   "cell_type": "markdown",
   "metadata": {},
   "source": [
    "Meilleurs paramètres pour le SVC:\n",
    "*   gamma = 'scale'\n",
    "*   kernel = 'linear'\n",
    "*   probability = True\n",
    "*   class_weight = None\n",
    "*   C = 150"
   ]
  },
  {
   "cell_type": "code",
   "execution_count": 163,
   "metadata": {},
   "outputs": [
    {
     "name": "stdout",
     "output_type": "stream",
     "text": [
      "1.0924524616441582\n",
      "0.4642085966175026\n"
     ]
    }
   ],
   "source": [
    "svc = Pipeline([('scaler', MinMaxScaler()), \n",
    "                         ('svc', SVC(C=150,class_weight=None,gamma='scale', \n",
    "                            kernel='linear',probability=True))])\n",
    "svc.fit(X_train,Y_train)\n",
    "y_pred = svc.predict(X_test)\n",
    "SVC_rmse = (np.sqrt(mean_squared_error(Y_test, y_pred)))\n",
    "SVC_r2 = r2_score(Y_test, y_pred)\n",
    "print(SVC_rmse)\n",
    "print(SVC_r2)"
   ]
  },
  {
   "cell_type": "code",
   "execution_count": 151,
   "metadata": {},
   "outputs": [],
   "source": [
    "x_sansPAC = SkillCraft_DF[['APM','SelectByHotkeys', 'AssignToHotkeys', 'UniqueHotkeys', 'MinimapAttacks',\n",
    "       'MinimapRightClicks','TotalMapExplored', 'WorkersMade', 'UniqueUnitsMade',\n",
    "       'ComplexUnitsMade', 'ComplexAbilitiesUsed']]\n",
    "y_sansPAC = SkillCraft_DF['NewIndex']\n",
    "X_sansPAC_train, X_sansPAC_test, Y_sansPAC_train, Y_sansPAC_test = train_test_split(x_sansPAC, y_sansPAC, test_size = 0.2)"
   ]
  },
  {
   "cell_type": "code",
   "execution_count": 152,
   "metadata": {},
   "outputs": [
    {
     "name": "stdout",
     "output_type": "stream",
     "text": [
      "1.1449942815411371\n",
      "0.37882495142086114\n"
     ]
    }
   ],
   "source": [
    "svc = Pipeline([('scaler', MinMaxScaler()), \n",
    "                         ('svc', SVC(C=150,class_weight=None,gamma='scale', \n",
    "                            kernel='linear',probability=True))])\n",
    "svc.fit(X_sansPAC_train,Y_sansPAC_train)\n",
    "y_sansPAC_pred = svc.predict(X_sansPAC_test)\n",
    "SVC_sansPAC_rmse = (np.sqrt(mean_squared_error(Y_sansPAC_test, y_sansPAC_pred)))\n",
    "SVC_sansPAC_r2 = r2_score(Y_sansPAC_test, y_sansPAC_pred)\n",
    "print(SVC_sansPAC_rmse)\n",
    "print(SVC_sansPAC_r2)"
   ]
  },
  {
   "cell_type": "markdown",
   "metadata": {},
   "source": [
    "Cependant le modèle sans les colonnes PAC est tout de meme beaucoup moins performant."
   ]
  },
  {
   "cell_type": "markdown",
   "metadata": {},
   "source": [
    "**Modele 5: Gradient Boosting Classifier**"
   ]
  },
  {
   "cell_type": "code",
   "execution_count": 172,
   "metadata": {},
   "outputs": [],
   "source": [
    "x = SkillCraft_Norm[['APM','SelectByHotkeys', 'AssignToHotkeys', 'UniqueHotkeys', 'MinimapAttacks',\n",
    "       'MinimapRightClicks', 'NumberOfPACs', 'GapBetweenPACs', 'ActionLatency',\n",
    "       'ActionsInPAC', 'TotalMapExplored', 'WorkersMade', 'UniqueUnitsMade',\n",
    "       'ComplexUnitsMade', 'ComplexAbilitiesUsed']]\n",
    "y = SkillCraft_DF['NewIndex']\n",
    "X_train, X_test, Y_train, Y_test = train_test_split(x, y, test_size = 0.2)"
   ]
  },
  {
   "cell_type": "code",
   "execution_count": 155,
   "metadata": {},
   "outputs": [
    {
     "data": {
      "text/plain": [
       "array([0.4077381 , 0.38541667, 0.38095238, 0.37053571, 0.36309524])"
      ]
     },
     "execution_count": 155,
     "metadata": {},
     "output_type": "execute_result"
    }
   ],
   "source": [
    "gbc = GradientBoostingClassifier()\n",
    "\n",
    "cross_val_score(gbc, x, y, n_jobs=-1)"
   ]
  },
  {
   "cell_type": "code",
   "execution_count": 156,
   "metadata": {},
   "outputs": [],
   "source": [
    "def test_hyperparametres_GBC(hyperparametres):\n",
    "    grid= GridSearchCV(GradientBoostingClassifier(), hyperparametres, n_jobs=-1)\n",
    "    grid.fit(X_train, Y_train)\n",
    "    draw_confusion_matrix(Y_test, grid.predict(X_test), \"\")\n",
    "    return grid.best_score_, grid.best_estimator_"
   ]
  },
  {
   "cell_type": "code",
   "execution_count": 157,
   "metadata": {},
   "outputs": [
    {
     "data": {
      "image/png": "[encoded data removed]",
      "text/plain": [
       "<Figure size 360x360 with 2 Axes>"
      ]
     },
     "metadata": {
      "needs_background": "light"
     },
     "output_type": "display_data"
    },
    {
     "data": {
      "text/plain": [
       "(0.3858078406125176,\n",
       " GradientBoostingClassifier(ccp_alpha=0.0, criterion='friedman_mse', init=None,\n",
       "                            learning_rate=0.1, loss='deviance', max_depth=3,\n",
       "                            max_features=None, max_leaf_nodes=None,\n",
       "                            min_impurity_decrease=0.0, min_impurity_split=None,\n",
       "                            min_samples_leaf=1, min_samples_split=2,\n",
       "                            min_weight_fraction_leaf=0.0, n_estimators=20,\n",
       "                            n_iter_no_change=None, presort='deprecated',\n",
       "                            random_state=None, subsample=1.0, tol=0.0001,\n",
       "                            validation_fraction=0.1, verbose=0,\n",
       "                            warm_start=False))"
      ]
     },
     "execution_count": 157,
     "metadata": {},
     "output_type": "execute_result"
    }
   ],
   "source": [
    "hyperparametres = {'n_estimators' : [10, 20, 50, 100, 200,  300, 500, 1000],\n",
    "                   'learning_rate': [0.01, 0.1, 1e-3,1e-4,1e-5],  \n",
    "                   'loss' : ['ls','deviance','exponential']}\n",
    "test_hyperparametres_GBC(hyperparametres)"
   ]
  },
  {
   "cell_type": "code",
   "execution_count": 158,
   "metadata": {},
   "outputs": [
    {
     "data": {
      "image/png": "[encoded data removed]",
      "text/plain": [
       "<Figure size 360x360 with 2 Axes>"
      ]
     },
     "metadata": {
      "needs_background": "light"
     },
     "output_type": "display_data"
    },
    {
     "data": {
      "text/plain": [
       "(0.3936235315292863,\n",
       " GradientBoostingClassifier(ccp_alpha=0.0, criterion='friedman_mse', init=None,\n",
       "                            learning_rate=0.15, loss='deviance', max_depth=3,\n",
       "                            max_features=None, max_leaf_nodes=None,\n",
       "                            min_impurity_decrease=0.0, min_impurity_split=None,\n",
       "                            min_samples_leaf=1, min_samples_split=15,\n",
       "                            min_weight_fraction_leaf=0.0, n_estimators=25,\n",
       "                            n_iter_no_change=None, presort='deprecated',\n",
       "                            random_state=None, subsample=1.0, tol=0.0001,\n",
       "                            validation_fraction=0.1, verbose=0,\n",
       "                            warm_start=False))"
      ]
     },
     "execution_count": 158,
     "metadata": {},
     "output_type": "execute_result"
    }
   ],
   "source": [
    "hyperparametres = {'n_estimators' : [15,17,20,22,25,27],\n",
    "                   'learning_rate': [0.09, 0.1, 0.12, 0.15, 0.2],\n",
    "                   'min_samples_split': [1, 2, 3, 5, 10, 15, 20],\n",
    "                   'max_depth': [None,3,5,8,10,15,20,30],\n",
    "                   'loss' : ['deviance']}\n",
    "test_hyperparametres_GBC(hyperparametres)"
   ]
  },
  {
   "cell_type": "code",
   "execution_count": 159,
   "metadata": {},
   "outputs": [
    {
     "data": {
      "image/png": "[encoded data removed]",
      "text/plain": [
       "<Figure size 360x360 with 2 Axes>"
      ]
     },
     "metadata": {
      "needs_background": "light"
     },
     "output_type": "display_data"
    },
    {
     "data": {
      "text/plain": [
       "(0.39473946543166283,\n",
       " GradientBoostingClassifier(ccp_alpha=0.0, criterion='friedman_mse', init=None,\n",
       "                            learning_rate=0.17, loss='deviance', max_depth=3,\n",
       "                            max_features=None, max_leaf_nodes=None,\n",
       "                            min_impurity_decrease=0.0, min_impurity_split=None,\n",
       "                            min_samples_leaf=7, min_samples_split=16,\n",
       "                            min_weight_fraction_leaf=0.0, n_estimators=23,\n",
       "                            n_iter_no_change=None, presort='deprecated',\n",
       "                            random_state=None, subsample=1.0, tol=0.0001,\n",
       "                            validation_fraction=0.1, verbose=0,\n",
       "                            warm_start=False))"
      ]
     },
     "execution_count": 159,
     "metadata": {},
     "output_type": "execute_result"
    }
   ],
   "source": [
    "hyperparametres = {'n_estimators' : [23,24,25,27,30,35],\n",
    "                   'learning_rate': [0.13,0.15,0.17],\n",
    "                   'min_samples_split': [13,14,15,16,17],\n",
    "                   'max_depth': [3],\n",
    "                   'min_samples_leaf' : [1,2,3,4,5,7],\n",
    "                   'loss' : ['deviance']}\n",
    "test_hyperparametres_GBC(hyperparametres)"
   ]
  },
  {
   "cell_type": "markdown",
   "metadata": {},
   "source": [
    "Meilleurs paramètres pour le GBC:\n",
    "*    'n_estimators' : [23]\n",
    "*    'learning_rate': [0.17]\n",
    "*    'min_samples_split': [16]\n",
    "*    'max_depth': [3]\n",
    "*    'min_samples_leaf' : [7],\n",
    "*    'loss' : ['deviance']"
   ]
  },
  {
   "cell_type": "code",
   "execution_count": 176,
   "metadata": {},
   "outputs": [
    {
     "data": {
      "text/plain": [
       "GradientBoostingClassifier(ccp_alpha=0.0, criterion='friedman_mse', init=None,\n",
       "                           learning_rate=0.17, loss='deviance', max_depth=3,\n",
       "                           max_features=None, max_leaf_nodes=None,\n",
       "                           min_impurity_decrease=0.0, min_impurity_split=None,\n",
       "                           min_samples_leaf=7, min_samples_split=16,\n",
       "                           min_weight_fraction_leaf=0.0, n_estimators=23,\n",
       "                           n_iter_no_change=None, presort='deprecated',\n",
       "                           random_state=None, subsample=1.0, tol=0.0001,\n",
       "                           validation_fraction=0.1, verbose=0,\n",
       "                           warm_start=False)"
      ]
     },
     "execution_count": 176,
     "metadata": {},
     "output_type": "execute_result"
    }
   ],
   "source": [
    "gbc = GradientBoostingClassifier(n_estimators=23, learning_rate=0.17, min_samples_split=16, max_depth=3, \n",
    "                                 min_samples_leaf=7, loss='deviance')\n",
    "gbc.fit(X_train,Y_train)"
   ]
  },
  {
   "cell_type": "code",
   "execution_count": 177,
   "metadata": {},
   "outputs": [
    {
     "name": "stdout",
     "output_type": "stream",
     "text": [
      "[0.01132161 0.01565174 0.01922794 0.02078217 0.02090834 0.02254725\n",
      " 0.0258988  0.03878635 0.05302658 0.06873151 0.07481352 0.07558337\n",
      " 0.08317388 0.17773595 0.29181099]\n"
     ]
    }
   ],
   "source": [
    "cols = ['APM','SelectByHotkeys', 'AssignToHotkeys', 'UniqueHotkeys', 'MinimapAttacks',\n",
    "'MinimapRightClicks', 'NumberOfPACs', 'GapBetweenPACs', 'ActionLatency',\n",
    "'ActionsInPAC', 'TotalMapExplored', 'WorkersMade', 'UniqueUnitsMade',\n",
    "'ComplexUnitsMade', 'ComplexAbilitiesUsed']\n",
    "\n",
    "importances = gbc.feature_importances_\n",
    "print(np.sort(importances))"
   ]
  },
  {
   "cell_type": "code",
   "execution_count": 178,
   "metadata": {},
   "outputs": [
    {
     "data": {
      "text/plain": [
       "['UniqueUnitsMade',\n",
       " 'MinimapRightClicks',\n",
       " 'TotalMapExplored',\n",
       " 'UniqueHotkeys',\n",
       " 'ComplexUnitsMade',\n",
       " 'ActionsInPAC',\n",
       " 'ComplexAbilitiesUsed',\n",
       " 'WorkersMade',\n",
       " 'AssignToHotkeys',\n",
       " 'GapBetweenPACs',\n",
       " 'MinimapAttacks',\n",
       " 'NumberOfPACs',\n",
       " 'SelectByHotkeys',\n",
       " 'APM',\n",
       " 'ActionLatency']"
      ]
     },
     "execution_count": 178,
     "metadata": {},
     "output_type": "execute_result"
    }
   ],
   "source": [
    "sort_list(cols, importances)"
   ]
  },
  {
   "cell_type": "markdown",
   "metadata": {},
   "source": [
    "ActionLatency et APM sont encore une fois des colonnes importantes dans la pédiction de la league, ce qui confirme les études de l'article."
   ]
  },
  {
   "cell_type": "code",
   "execution_count": 179,
   "metadata": {},
   "outputs": [
    {
     "name": "stdout",
     "output_type": "stream",
     "text": [
      "1.0835622468770048\n",
      "0.44975425079702447\n"
     ]
    }
   ],
   "source": [
    "gbc.fit(X_train,Y_train)\n",
    "y_pred = gbc.predict(X_test)\n",
    "GBC_rmse = (np.sqrt(mean_squared_error(Y_test, y_pred)))\n",
    "GBC_r2 = r2_score(Y_test, y_pred)\n",
    "print(GBC_rmse)\n",
    "print(GBC_r2)"
   ]
  },
  {
   "cell_type": "code",
   "execution_count": 180,
   "metadata": {},
   "outputs": [],
   "source": [
    "x_sansPAC = SkillCraft_DF[['APM','SelectByHotkeys', 'AssignToHotkeys', 'UniqueHotkeys', 'MinimapAttacks',\n",
    "       'MinimapRightClicks','TotalMapExplored', 'WorkersMade', 'UniqueUnitsMade',\n",
    "       'ComplexUnitsMade', 'ComplexAbilitiesUsed']]\n",
    "y_sansPAC = SkillCraft_DF['NewIndex']\n",
    "X_sansPAC_train, X_sansPAC_test, Y_sansPAC_train, Y_sansPAC_test = train_test_split(x_sansPAC, y_sansPAC, test_size = 0.2)"
   ]
  },
  {
   "cell_type": "code",
   "execution_count": 181,
   "metadata": {},
   "outputs": [
    {
     "name": "stdout",
     "output_type": "stream",
     "text": [
      "1.14564392373896\n",
      "0.362469304185172\n"
     ]
    }
   ],
   "source": [
    "gbc.fit(X_sansPAC_train,Y_sansPAC_train)\n",
    "y_sansPAC_pred = gbc.predict(X_sansPAC_test)\n",
    "GBC_sansPAC_rmse = (np.sqrt(mean_squared_error(Y_sansPAC_test, y_sansPAC_pred)))\n",
    "GBC_sansPAC_r2 = r2_score(Y_sansPAC_test, y_sansPAC_pred)\n",
    "print(GBC_sansPAC_rmse)\n",
    "print(GBC_sansPAC_r2)"
   ]
  },
  {
   "cell_type": "markdown",
   "metadata": {},
   "source": [
    "**Comparaison des modèles**"
   ]
  },
  {
   "cell_type": "markdown",
   "metadata": {},
   "source": [
    "Valeur du R2 pour les différents modèles testés."
   ]
  },
  {
   "cell_type": "code",
   "execution_count": 206,
   "metadata": {},
   "outputs": [
    {
     "data": {
      "image/png": "[encoded data removed]",
      "text/plain": [
       "<Figure size 504x360 with 1 Axes>"
      ]
     },
     "metadata": {
      "needs_background": "light"
     },
     "output_type": "display_data"
    }
   ],
   "source": [
    "names = ['Regression Linéaire', 'KNN', 'Random Forest', 'SVC', 'Gradient Boosting']\n",
    "r2s = [LinReg_r2, KNN_r2, RF_r2, SVC_r2, GBC_r2]\n",
    "\n",
    "plt.rcParams['figure.figsize'] = [7, 5]\n",
    "plt.bar(names, r2s);"
   ]
  },
  {
   "cell_type": "markdown",
   "metadata": {},
   "source": [
    "On obtient les meilleurs résultats avec la regression linéaire. Le KNN est le moins performant de tous."
   ]
  },
  {
   "cell_type": "markdown",
   "metadata": {},
   "source": [
    "Comparaison avec les modèles avec et sans les attributs PAC."
   ]
  },
  {
   "cell_type": "code",
   "execution_count": 207,
   "metadata": {},
   "outputs": [
    {
     "data": {
      "text/plain": [
       "<matplotlib.legend.Legend at 0x210e4b497f0>"
      ]
     },
     "execution_count": 207,
     "metadata": {},
     "output_type": "execute_result"
    },
    {
     "data": {
      "image/png": "[encoded data removed]",
      "text/plain": [
       "<Figure size 504x360 with 1 Axes>"
      ]
     },
     "metadata": {
      "needs_background": "light"
     },
     "output_type": "display_data"
    }
   ],
   "source": [
    "r2s_sansPAC = [LinReg_sansPAC_r2, KNN_sansPAC_r2, RF_sansPAC_r2, SVC_sansPAC_r2, GBC_sansPAC_r2]\n",
    "plt.plot(names, r2s, label='avec PAC');\n",
    "plt.plot(names, r2s_sansPAC, label='sans PAC');\n",
    "plt.legend()"
   ]
  },
  {
   "cell_type": "markdown",
   "metadata": {},
   "source": [
    "De manière générale on peut constater que les attributs dépendants du cycle de perception/action sont des bons indicateurs du développement de l'expertise pour le jeu vidéo StarCraft car ils ont un r2 plus élevé chez les modèles que nous avons étudié."
   ]
  },
  {
   "cell_type": "code",
   "execution_count": 208,
   "metadata": {},
   "outputs": [
    {
     "data": {
      "text/html": [
       "<div>\n",
       "<style scoped>\n",
       "    .dataframe tbody tr th:only-of-type {\n",
       "        vertical-align: middle;\n",
       "    }\n",
       "\n",
       "    .dataframe tbody tr th {\n",
       "        vertical-align: top;\n",
       "    }\n",
       "\n",
       "    .dataframe thead th {\n",
       "        text-align: right;\n",
       "    }\n",
       "</style>\n",
       "<table border=\"1\" class=\"dataframe\">\n",
       "  <thead>\n",
       "    <tr style=\"text-align: right;\">\n",
       "      <th></th>\n",
       "      <th>modele</th>\n",
       "      <th>rmse</th>\n",
       "      <th>r2</th>\n",
       "      <th>rmse_sansPAC</th>\n",
       "      <th>r2_sansPAC</th>\n",
       "    </tr>\n",
       "  </thead>\n",
       "  <tbody>\n",
       "    <tr>\n",
       "      <th>4</th>\n",
       "      <td>Gradient Boosting</td>\n",
       "      <td>1.083562</td>\n",
       "      <td>0.449754</td>\n",
       "      <td>1.145644</td>\n",
       "      <td>0.362469</td>\n",
       "    </tr>\n",
       "    <tr>\n",
       "      <th>2</th>\n",
       "      <td>Random Forest</td>\n",
       "      <td>1.070436</td>\n",
       "      <td>0.462473</td>\n",
       "      <td>1.127312</td>\n",
       "      <td>0.415797</td>\n",
       "    </tr>\n",
       "    <tr>\n",
       "      <th>3</th>\n",
       "      <td>SVC</td>\n",
       "      <td>1.092452</td>\n",
       "      <td>0.464209</td>\n",
       "      <td>1.144994</td>\n",
       "      <td>0.378825</td>\n",
       "    </tr>\n",
       "    <tr>\n",
       "      <th>1</th>\n",
       "      <td>KNN</td>\n",
       "      <td>1.001487</td>\n",
       "      <td>0.491959</td>\n",
       "      <td>1.175772</td>\n",
       "      <td>0.322250</td>\n",
       "    </tr>\n",
       "    <tr>\n",
       "      <th>0</th>\n",
       "      <td>Regression Linéaire</td>\n",
       "      <td>1.007255</td>\n",
       "      <td>0.520543</td>\n",
       "      <td>1.100452</td>\n",
       "      <td>0.441809</td>\n",
       "    </tr>\n",
       "  </tbody>\n",
       "</table>\n",
       "</div>"
      ],
      "text/plain": [
       "                modele      rmse        r2  rmse_sansPAC  r2_sansPAC\n",
       "4    Gradient Boosting  1.083562  0.449754      1.145644    0.362469\n",
       "2        Random Forest  1.070436  0.462473      1.127312    0.415797\n",
       "3                  SVC  1.092452  0.464209      1.144994    0.378825\n",
       "1                  KNN  1.001487  0.491959      1.175772    0.322250\n",
       "0  Regression Linéaire  1.007255  0.520543      1.100452    0.441809"
      ]
     },
     "execution_count": 208,
     "metadata": {},
     "output_type": "execute_result"
    }
   ],
   "source": [
    "rmses = [LinReg_rmse, KNN_rmse, RF_rmse, SVC_rmse, GBC_rmse]\n",
    "rmses_sansPAC = [LinReg_sansPAC_rmse, KNN_sansPAC_rmse, RF_sansPAC_rmse, SVC_sansPAC_rmse, GBC_sansPAC_rmse]\n",
    "\n",
    "Comparaison = pd.DataFrame()\n",
    "Comparaison['modele'] = names\n",
    "Comparaison['rmse'] = rmses\n",
    "Comparaison['r2'] = r2s\n",
    "Comparaison['rmse_sansPAC'] = rmses_sansPAC\n",
    "Comparaison['r2_sansPAC'] = r2s_sansPAC\n",
    "Comparaison.sort_values(by=['r2'])"
   ]
  },
  {
   "cell_type": "markdown",
   "metadata": {},
   "source": [
    "Ceci rejoins donc la conclusion de l'article qui constate que le cycle de perception/action peut etre un bon indicateur du développement de l'expertise."
   ]
  },
  {
   "cell_type": "code",
   "execution_count": null,
   "metadata": {},
   "outputs": [],
   "source": []
  }
 ],
 "metadata": {
  "kernelspec": {
   "display_name": "Python 3",
   "language": "python",
   "name": "python3"
  },
  "language_info": {
   "codemirror_mode": {
    "name": "ipython",
    "version": 3
   },
   "file_extension": ".py",
   "mimetype": "text/x-python",
   "name": "python",
   "nbconvert_exporter": "python",
   "pygments_lexer": "ipython3",
   "version": "3.8.1"
  }
 },
 "nbformat": 4,
 "nbformat_minor": 4
}
